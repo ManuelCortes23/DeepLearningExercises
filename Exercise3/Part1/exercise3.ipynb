{
 "cells": [
  {
   "attachments": {},
   "cell_type": "markdown",
   "id": "f72bd356",
   "metadata": {},
   "source": [
    "From now on, many excercises will require a longer training time. To shorten it, you need to start getting familiar with Google Colab. It is possible to run script using the Google GPU (to do that in a colab notebook go to Runtime -> Change runtime type -> Select GPU)."
   ]
  },
  {
   "cell_type": "code",
   "execution_count": 1,
   "id": "53e6e281",
   "metadata": {},
   "outputs": [],
   "source": [
    "# Uncomment these lines if on colab\n",
    "#!pip install dgl-cu100\n",
    "#!pip install --upgrade tables"
   ]
  },
  {
   "cell_type": "code",
   "execution_count": 2,
   "id": "23facc21",
   "metadata": {},
   "outputs": [],
   "source": [
    "import dgl\n",
    "import pandas as pd\n",
    "import torch\n",
    "import numpy as np\n",
    "import matplotlib.pyplot as plt\n",
    "import networkx as nx\n",
    "import torch.nn as nn\n",
    "import torch.optim as optim\n",
    "from tqdm.notebook import tqdm\n",
    "import ast"
   ]
  },
  {
   "attachments": {},
   "cell_type": "markdown",
   "id": "c3b9cf7b",
   "metadata": {},
   "source": [
    "## Exercise 3, part 1"
   ]
  },
  {
   "attachments": {},
   "cell_type": "markdown",
   "id": "d882eeb4",
   "metadata": {},
   "source": [
    "Goals of this assignment:\n",
    "\n",
    "1. Basic introduction to the DGL library https://www.dgl.ai/\n",
    "2. Train a classifier that takes a point cloud as input (you must achieve validation accuracy over 85%)\n",
    "3. Learn to work with dgl graphs, node data and batching\n",
    "4. Build a deepset architecture with dgl mean_nodes and broadcast_nodes functions\n",
    "\n",
    "First step, download the dataset. It's a modified version of the MNIST dataset where the images have been converted to point clouds.\n",
    "\n",
    "<b> The task is to classify each graph and say which number it represents. </b>"
   ]
  },
  {
   "cell_type": "code",
   "execution_count": 3,
   "id": "8b6c91ef",
   "metadata": {},
   "outputs": [
    {
     "name": "stderr",
     "output_type": "stream",
     "text": [
      "'unzip' is not recognized as an internal or external command,\n",
      "operable program or batch file.\n"
     ]
    }
   ],
   "source": [
    "!unzip ../../Datasets/Dataset_MNIST.zip"
   ]
  },
  {
   "cell_type": "code",
   "execution_count": 4,
   "id": "149e2547",
   "metadata": {},
   "outputs": [],
   "source": [
    "%load_ext autoreload\n",
    "%autoreload 2"
   ]
  },
  {
   "attachments": {},
   "cell_type": "markdown",
   "id": "e02b306c",
   "metadata": {},
   "source": [
    "### DataSet\n",
    "\n",
    "It is already built in, but it's good to have a look at how DLG graph is created. The graphs:\n",
    "\n",
    "* have no edges, they are just a collection of nodes;\n",
    "\n",
    "* their nodes have a feature which is named \"xy\", which represents the position of the node in 2D space.\n",
    "\n",
    "The dataset will return a graph and a target class (from 0 to 9)."
   ]
  },
  {
   "cell_type": "code",
   "execution_count": 5,
   "id": "7fd3e191",
   "metadata": {},
   "outputs": [],
   "source": [
    "training_df = pd.read_hdf('Dataset/training_ds.h5')"
   ]
  },
  {
   "cell_type": "code",
   "execution_count": 6,
   "id": "fae68db2",
   "metadata": {},
   "outputs": [
    {
     "data": {
      "text/html": [
       "<div>\n",
       "<style scoped>\n",
       "    .dataframe tbody tr th:only-of-type {\n",
       "        vertical-align: middle;\n",
       "    }\n",
       "\n",
       "    .dataframe tbody tr th {\n",
       "        vertical-align: top;\n",
       "    }\n",
       "\n",
       "    .dataframe thead th {\n",
       "        text-align: right;\n",
       "    }\n",
       "</style>\n",
       "<table border=\"1\" class=\"dataframe\">\n",
       "  <thead>\n",
       "    <tr style=\"text-align: right;\">\n",
       "      <th></th>\n",
       "      <th>xy</th>\n",
       "      <th>label</th>\n",
       "      <th>n_points</th>\n",
       "    </tr>\n",
       "  </thead>\n",
       "  <tbody>\n",
       "    <tr>\n",
       "      <th>0</th>\n",
       "      <td>[[-0.35714285714285715, -0.7142857142857143], ...</td>\n",
       "      <td>5</td>\n",
       "      <td>117</td>\n",
       "    </tr>\n",
       "    <tr>\n",
       "      <th>1</th>\n",
       "      <td>[[-0.14285714285714285, 0.2857142857142857], [...</td>\n",
       "      <td>0</td>\n",
       "      <td>130</td>\n",
       "    </tr>\n",
       "    <tr>\n",
       "      <th>2</th>\n",
       "      <td>[[-0.14285714285714285, 0.0], [-0.642857142857...</td>\n",
       "      <td>4</td>\n",
       "      <td>88</td>\n",
       "    </tr>\n",
       "    <tr>\n",
       "      <th>3</th>\n",
       "      <td>[[0.2857142857142857, 0.5], [-0.35714285714285...</td>\n",
       "      <td>1</td>\n",
       "      <td>70</td>\n",
       "    </tr>\n",
       "    <tr>\n",
       "      <th>4</th>\n",
       "      <td>[[-0.42857142857142855, -0.14285714285714285],...</td>\n",
       "      <td>9</td>\n",
       "      <td>97</td>\n",
       "    </tr>\n",
       "  </tbody>\n",
       "</table>\n",
       "</div>"
      ],
      "text/plain": [
       "                                                  xy label n_points\n",
       "0  [[-0.35714285714285715, -0.7142857142857143], ...     5      117\n",
       "1  [[-0.14285714285714285, 0.2857142857142857], [...     0      130\n",
       "2  [[-0.14285714285714285, 0.0], [-0.642857142857...     4       88\n",
       "3  [[0.2857142857142857, 0.5], [-0.35714285714285...     1       70\n",
       "4  [[-0.42857142857142855, -0.14285714285714285],...     9       97"
      ]
     },
     "execution_count": 6,
     "metadata": {},
     "output_type": "execute_result"
    }
   ],
   "source": [
    "training_df.head()"
   ]
  },
  {
   "cell_type": "code",
   "execution_count": 7,
   "id": "6ddf398d",
   "metadata": {},
   "outputs": [],
   "source": [
    "labels = torch.LongTensor(training_df.label)\n",
    "n_points = training_df.n_points.values"
   ]
  },
  {
   "cell_type": "code",
   "execution_count": 8,
   "id": "a09007dc",
   "metadata": {},
   "outputs": [
    {
     "data": {
      "text/plain": [
       "tensor([0, 1, 2, 3, 4, 5, 6, 7, 8, 9])"
      ]
     },
     "execution_count": 8,
     "metadata": {},
     "output_type": "execute_result"
    }
   ],
   "source": [
    "labels.unique()"
   ]
  },
  {
   "cell_type": "code",
   "execution_count": 9,
   "id": "5015f352",
   "metadata": {},
   "outputs": [
    {
     "data": {
      "text/plain": [
       "array([117, 130, 88, ..., 114, 81, 88], dtype=object)"
      ]
     },
     "execution_count": 9,
     "metadata": {},
     "output_type": "execute_result"
    }
   ],
   "source": [
    "(n_points)"
   ]
  },
  {
   "attachments": {},
   "cell_type": "markdown",
   "id": "ca2ee449",
   "metadata": {},
   "source": [
    "Import the Dataloader already created now!"
   ]
  },
  {
   "cell_type": "code",
   "execution_count": 10,
   "id": "f2d64d87",
   "metadata": {},
   "outputs": [],
   "source": [
    "from dataloader import PointCloudMNISTdataset, collate_graphs"
   ]
  },
  {
   "cell_type": "code",
   "execution_count": 11,
   "id": "1a952d42",
   "metadata": {},
   "outputs": [],
   "source": [
    "training_dataset = PointCloudMNISTdataset('Dataset/training_ds.h5')\n",
    "validation_dataset = PointCloudMNISTdataset('Dataset/valid_ds.h5')"
   ]
  },
  {
   "cell_type": "code",
   "execution_count": 12,
   "id": "9c9c0360",
   "metadata": {},
   "outputs": [],
   "source": [
    "g, y = training_dataset[663]"
   ]
  },
  {
   "cell_type": "code",
   "execution_count": 13,
   "id": "8dc34b1f",
   "metadata": {},
   "outputs": [
    {
     "data": {
      "text/plain": [
       "(Graph(num_nodes=93, num_edges=0,\n",
       "       ndata_schemes={'xy': Scheme(shape=(2,), dtype=torch.float32)}\n",
       "       edata_schemes={}),\n",
       " tensor(4))"
      ]
     },
     "execution_count": 13,
     "metadata": {},
     "output_type": "execute_result"
    }
   ],
   "source": [
    "# Graph 663 has 93 nodes, no edges and each node is associated with a property 'xy'\n",
    "\n",
    "g, y"
   ]
  },
  {
   "cell_type": "code",
   "execution_count": 14,
   "id": "076b2aaf",
   "metadata": {},
   "outputs": [],
   "source": [
    "#To see the 2D array of coordinates\n",
    "#g.ndata['xy']"
   ]
  },
  {
   "cell_type": "code",
   "execution_count": 15,
   "id": "aeda4b0e",
   "metadata": {},
   "outputs": [
    {
     "data": {
      "image/png": "[encoded data removed]",
      "text/plain": [
       "<Figure size 400x400 with 1 Axes>"
      ]
     },
     "metadata": {},
     "output_type": "display_data"
    }
   ],
   "source": [
    "fig,ax = plt.subplots(figsize=(4,4))\n",
    "\n",
    "xy = g.ndata['xy'].data.numpy()\n",
    "\n",
    "ax.scatter( xy[:,0],xy[:,1] )\n",
    "\n",
    "ax.set_ylabel('Y ',fontsize=20,rotation=0)\n",
    "ax.set_xlabel('X',fontsize=20)\n",
    "ax.set_xlim(-1,1)\n",
    "ax.set_ylim(-1,1)\n",
    "plt.show()"
   ]
  },
  {
   "attachments": {},
   "cell_type": "markdown",
   "id": "3b4741a2",
   "metadata": {},
   "source": [
    "###  How to batch?\n",
    "\n",
    "We need to batch our data in a \"special\" way, we have to tell the pytorch dataloader how to do it. We do this with the collate_graphs function defined in dataloader.py. It uses a function called dgl.batch( ). The batched graph includes all the nodes from all the graphs - and dgl keeps track of which nodes belong to each graph."
   ]
  },
  {
   "cell_type": "code",
   "execution_count": 16,
   "id": "73e351dc",
   "metadata": {},
   "outputs": [],
   "source": [
    "from torch.utils.data import Dataset, DataLoader\n",
    "\n",
    "data_loader = DataLoader(training_dataset, batch_size=300, shuffle=True,\n",
    "                         collate_fn=collate_graphs)\n",
    "validation_data_loader = DataLoader(validation_dataset, batch_size=300, shuffle=False,\n",
    "                         collate_fn=collate_graphs)"
   ]
  },
  {
   "cell_type": "code",
   "execution_count": 17,
   "id": "2ea8f031",
   "metadata": {},
   "outputs": [],
   "source": [
    "for batched_g,y in data_loader:\n",
    "    break"
   ]
  },
  {
   "cell_type": "code",
   "execution_count": 18,
   "id": "4c474b67",
   "metadata": {},
   "outputs": [
    {
     "data": {
      "text/plain": [
       "(Graph(num_nodes=33202, num_edges=0,\n",
       "       ndata_schemes={'xy': Scheme(shape=(2,), dtype=torch.float32)}\n",
       "       edata_schemes={}),\n",
       " tensor([4, 0, 1, 1, 2, 8, 0, 9, 2, 1, 1, 5, 4, 7, 1, 1, 9, 4, 5, 6, 9, 6, 6, 0,\n",
       "         2, 7, 6, 8, 5, 3, 8, 0, 9, 6, 0, 8, 8, 6, 9, 0, 1, 4, 2, 6, 9, 2, 7, 0,\n",
       "         5, 5, 5, 9, 6, 9, 1, 4, 7, 3, 5, 3, 3, 0, 7, 8, 1, 7, 0, 9, 3, 8, 1, 5,\n",
       "         1, 4, 7, 6, 4, 6, 2, 6, 4, 7, 2, 1, 4, 3, 8, 9, 8, 8, 6, 9, 9, 5, 0, 7,\n",
       "         8, 8, 1, 7, 0, 6, 7, 0, 0, 2, 8, 7, 4, 6, 9, 0, 3, 9, 1, 9, 9, 8, 0, 3,\n",
       "         1, 8, 1, 8, 8, 9, 3, 1, 3, 6, 3, 5, 6, 8, 0, 5, 4, 3, 1, 7, 7, 3, 1, 3,\n",
       "         0, 7, 2, 8, 8, 4, 1, 1, 8, 9, 8, 8, 4, 6, 4, 6, 3, 2, 1, 2, 7, 3, 4, 1,\n",
       "         4, 1, 4, 7, 6, 8, 6, 5, 3, 8, 8, 9, 7, 5, 3, 0, 5, 3, 9, 8, 0, 2, 2, 6,\n",
       "         1, 2, 4, 8, 6, 5, 3, 2, 9, 2, 3, 4, 6, 9, 4, 4, 5, 9, 9, 5, 0, 4, 0, 1,\n",
       "         3, 2, 5, 6, 4, 9, 8, 9, 0, 7, 0, 5, 4, 7, 1, 0, 0, 0, 3, 2, 6, 1, 2, 6,\n",
       "         2, 0, 9, 2, 4, 2, 1, 5, 8, 0, 0, 5, 0, 0, 3, 6, 6, 9, 0, 3, 8, 4, 8, 7,\n",
       "         8, 6, 0, 2, 0, 3, 1, 0, 9, 1, 5, 7, 6, 3, 4, 8, 1, 9, 0, 6, 8, 2, 6, 0,\n",
       "         7, 0, 7, 3, 6, 4, 1, 8, 2, 1, 4, 9]))"
      ]
     },
     "execution_count": 18,
     "metadata": {},
     "output_type": "execute_result"
    }
   ],
   "source": [
    "batched_g,y"
   ]
  },
  {
   "cell_type": "code",
   "execution_count": 19,
   "id": "eb9fbf2a",
   "metadata": {},
   "outputs": [
    {
     "data": {
      "text/plain": [
       "tensor([ 81, 175,  36,  71,  61,  93, 136,  47,  56,  69,  48, 140,  65, 116,\n",
       "         66,  45, 130, 134, 142, 117,  92,  65,  92, 127,  95, 127,  95,  87,\n",
       "        107, 186, 115, 193, 108, 126, 135, 106, 102, 105,  80, 133,  71, 112,\n",
       "        124, 184, 119, 179, 105, 132, 143,  72,  72,  71, 107, 160, 136,  60,\n",
       "        118, 118,  80, 150,  64, 176, 105, 110,  53, 147, 137, 123, 154, 127,\n",
       "         50,  83,  53, 123,  90, 126, 112, 116, 144, 108,  79, 107, 119,  61,\n",
       "        160,  58, 114,  89, 133, 134,  86, 129,  89,  85, 190, 108, 130, 141,\n",
       "        105,  99, 128,  86, 109, 153, 191,  94, 130,  61,  87, 146, 131, 128,\n",
       "        102,  88,  68,  79, 186, 109, 172,  83,  49, 119,  53, 104,  89,  82,\n",
       "        102,  73,  67, 100, 132, 118,  75,  98, 117, 161,  82,  93, 127, 120,\n",
       "        105, 132,  67, 136, 116, 132,  92, 181, 113, 159,  58, 114,  95, 108,\n",
       "        107, 170,  87, 100, 102,  80,  88, 143,  41, 122,  61, 178,  71, 115,\n",
       "        112,  66,  94,  78, 124, 116, 171,  97,  83,  87,  87,  89, 131,  68,\n",
       "        117, 137, 112, 153, 111, 162, 169,  88, 104, 112,  78, 185, 147, 137,\n",
       "        124, 106, 147, 197,  89, 130,  75, 101,  93,  71, 124, 109,  90,  75,\n",
       "         88, 113, 173,  62, 150,  65, 109,  86,  92, 140, 123, 102,  97,  80,\n",
       "        113, 122, 159,  78,  82,  95,  71, 166, 106, 184,  86, 168, 193,  70,\n",
       "         82, 188, 125,  77,  81, 156, 113, 110,  50, 126, 159, 135, 197,  60,\n",
       "        171, 153, 156, 122, 133,  75, 127, 111, 111, 144, 138,  65,  86,  96,\n",
       "         88, 174, 142,  97,  69, 107,  81,  54,  88, 124,  73, 121,  81, 153,\n",
       "         85,  93, 167,  93,  74, 155, 133, 139, 112, 115, 136, 122, 151, 127,\n",
       "         62, 104, 102,  97,  91, 127])"
      ]
     },
     "execution_count": 19,
     "metadata": {},
     "output_type": "execute_result"
    }
   ],
   "source": [
    "batched_g.batch_num_nodes()"
   ]
  },
  {
   "attachments": {},
   "cell_type": "markdown",
   "id": "c74112a8",
   "metadata": {},
   "source": [
    "## The model: DeepSets\n",
    "\n",
    "### Explanation of the structure\n",
    "\n",
    "A possible model is DeepSets (feel free to implement this or change it). \n",
    "\n",
    "<img src=\"deepset.jpeg\" width=\"800\" height=\"400\">"
   ]
  },
  {
   "cell_type": "code",
   "execution_count": 20,
   "id": "a12df20d",
   "metadata": {},
   "outputs": [],
   "source": [
    "for batched_g,y in data_loader:\n",
    "    break"
   ]
  },
  {
   "cell_type": "code",
   "execution_count": 21,
   "metadata": {},
   "outputs": [
    {
     "data": {
      "text/plain": [
       "tensor([ 0.2143, -0.5714])"
      ]
     },
     "execution_count": 21,
     "metadata": {},
     "output_type": "execute_result"
    }
   ],
   "source": [
    "(batched_g.ndata['xy'][0])"
   ]
  },
  {
   "cell_type": "code",
   "execution_count": 22,
   "id": "b7b35237",
   "metadata": {
    "scrolled": true
   },
   "outputs": [
    {
     "data": {
      "text/plain": [
       "(torch.Tensor, torch.Size([32048, 2]))"
      ]
     },
     "execution_count": 22,
     "metadata": {},
     "output_type": "execute_result"
    }
   ],
   "source": [
    "type(batched_g.ndata['xy']), batched_g.ndata['xy'].shape"
   ]
  },
  {
   "attachments": {},
   "cell_type": "markdown",
   "id": "f227d1ea",
   "metadata": {},
   "source": [
    "The input array is N points with features (in this case xy, so 2 dimensions). We need to be able to apply a network to each one of the nodes in the graph. We do that by applying a linear layer to the node features."
   ]
  },
  {
   "cell_type": "code",
   "execution_count": 23,
   "id": "91ad1e2c",
   "metadata": {},
   "outputs": [],
   "source": [
    "# Example of creation of the embedding\n",
    "\n",
    "linear_layer = nn.Linear(2,10)\n",
    "# You store the output on the graph itself\n",
    "batched_g.ndata['hidden rep'] = linear_layer(batched_g.ndata['xy'])"
   ]
  },
  {
   "cell_type": "code",
   "execution_count": 24,
   "id": "b954ec34",
   "metadata": {},
   "outputs": [
    {
     "data": {
      "text/plain": [
       "torch.Size([32048, 10])"
      ]
     },
     "execution_count": 24,
     "metadata": {},
     "output_type": "execute_result"
    }
   ],
   "source": [
    "batched_g.ndata['hidden rep'].shape"
   ]
  },
  {
   "attachments": {},
   "cell_type": "markdown",
   "id": "ddafcae2",
   "metadata": {},
   "source": [
    "Next, we need to be able to take the mean of the hidden represenations in each graph - dgl has a function to do that dgl.mean_nodes( ). This function knows that our graph is a batch of different graphs."
   ]
  },
  {
   "cell_type": "code",
   "execution_count": 25,
   "id": "dfd1959a",
   "metadata": {},
   "outputs": [
    {
     "data": {
      "text/plain": [
       "torch.Size([300, 10])"
      ]
     },
     "execution_count": 25,
     "metadata": {},
     "output_type": "execute_result"
    }
   ],
   "source": [
    "# It extrapolates the graph you are interested in from the total graph created\n",
    "mean_of_node_rep = dgl.mean_nodes(batched_g,'hidden rep')\n",
    "mean_of_node_rep.shape"
   ]
  },
  {
   "attachments": {},
   "cell_type": "markdown",
   "id": "c2cafc85",
   "metadata": {},
   "source": [
    "We need to be able to \"broadcast\" this global mean back to each of the individual nodes, so that they are \"aware\" of the rest of the graph."
   ]
  },
  {
   "cell_type": "code",
   "execution_count": 26,
   "id": "f1170636",
   "metadata": {},
   "outputs": [],
   "source": [
    "broadcasted_sum = dgl.broadcast_nodes(batched_g,mean_of_node_rep)"
   ]
  },
  {
   "cell_type": "code",
   "execution_count": 27,
   "id": "f6910dd6",
   "metadata": {},
   "outputs": [
    {
     "data": {
      "text/plain": [
       "torch.Size([32048, 10])"
      ]
     },
     "execution_count": 27,
     "metadata": {},
     "output_type": "execute_result"
    }
   ],
   "source": [
    "broadcasted_sum.shape"
   ]
  },
  {
   "attachments": {},
   "cell_type": "markdown",
   "id": "9387a7a1",
   "metadata": {},
   "source": [
    "We assign this broadcasted global rep as a feature of the nodes"
   ]
  },
  {
   "cell_type": "code",
   "execution_count": 28,
   "id": "d45d42d6",
   "metadata": {},
   "outputs": [],
   "source": [
    "batched_g.ndata['global rep'] = broadcasted_sum"
   ]
  },
  {
   "attachments": {},
   "cell_type": "markdown",
   "id": "74972e3c",
   "metadata": {},
   "source": [
    "Now we can use it as input for a new linear layer, and we can update the hidden rep for each node. Now the hidden rep for each node contains information from the entire graph"
   ]
  },
  {
   "cell_type": "code",
   "execution_count": 29,
   "id": "5077831c",
   "metadata": {},
   "outputs": [
    {
     "name": "stdout",
     "output_type": "stream",
     "text": [
      "torch.Size([32048, 20])\n"
     ]
    }
   ],
   "source": [
    "linear_layer2 = nn.Linear(10*2,10)\n",
    "\n",
    "input_to_layer = torch.cat([\n",
    "                            batched_g.ndata['global rep'], \n",
    "                            batched_g.ndata['hidden rep']],dim=1)\n",
    "\n",
    "print(input_to_layer.shape)\n",
    "\n",
    "batched_g.ndata['hidden rep'] = linear_layer2(input_to_layer)"
   ]
  },
  {
   "cell_type": "code",
   "execution_count": 30,
   "id": "fcf43041",
   "metadata": {},
   "outputs": [
    {
     "data": {
      "text/plain": [
       "torch.Size([32048, 10])"
      ]
     },
     "execution_count": 30,
     "metadata": {},
     "output_type": "execute_result"
    }
   ],
   "source": [
    "batched_g.ndata['hidden rep'].shape"
   ]
  },
  {
   "attachments": {},
   "cell_type": "markdown",
   "id": "870d5b4e",
   "metadata": {},
   "source": [
    "### What model should you build?\n",
    "\n",
    "The final model should take a graph as input and return a vector of length 10 (remember this is MNIST and our task is to classify digits. This model worked for me, feel free to do whatever you desire.\n",
    "\n",
    "<img src=\"model_example.jpeg\" width=\"800\" height=\"400\">"
   ]
  },
  {
   "cell_type": "code",
   "execution_count": 31,
   "id": "34449ea4",
   "metadata": {},
   "outputs": [],
   "source": [
    "from model import Net"
   ]
  },
  {
   "cell_type": "code",
   "execution_count": 43,
   "id": "03cc7715",
   "metadata": {},
   "outputs": [
    {
     "data": {
      "text/plain": [
       "Net(\n",
       "  (input_layer): Linear(in_features=2, out_features=100, bias=True)\n",
       "  (blocks): ModuleList(\n",
       "    (0): Sequential(\n",
       "      (0): Linear(in_features=200, out_features=100, bias=True)\n",
       "      (1): ReLU()\n",
       "      (2): ModuleList(\n",
       "        (0): Sequential(\n",
       "          (0): ReLU()\n",
       "          (1): Linear(in_features=100, out_features=100, bias=True)\n",
       "        )\n",
       "        (1): Sequential(\n",
       "          (0): ReLU()\n",
       "          (1): Linear(in_features=100, out_features=100, bias=True)\n",
       "        )\n",
       "        (2): Sequential(\n",
       "          (0): ReLU()\n",
       "          (1): Linear(in_features=100, out_features=100, bias=True)\n",
       "        )\n",
       "        (3): Sequential(\n",
       "          (0): ReLU()\n",
       "          (1): Linear(in_features=100, out_features=100, bias=True)\n",
       "        )\n",
       "        (4): Sequential(\n",
       "          (0): ReLU()\n",
       "          (1): Linear(in_features=100, out_features=100, bias=True)\n",
       "        )\n",
       "      )\n",
       "      (3): BatchNorm1d(100, eps=1e-05, momentum=0.1, affine=True, track_running_stats=True)\n",
       "    )\n",
       "  )\n",
       "  (output_layers): Sequential(\n",
       "    (0): Linear(in_features=100, out_features=50, bias=True)\n",
       "    (1): ReLU(inplace=True)\n",
       "    (2): Linear(in_features=50, out_features=10, bias=True)\n",
       "  )\n",
       ")"
      ]
     },
     "execution_count": 43,
     "metadata": {},
     "output_type": "execute_result"
    }
   ],
   "source": [
    "net = Net()\n",
    "net"
   ]
  },
  {
   "cell_type": "code",
   "execution_count": 44,
   "id": "1a812440",
   "metadata": {},
   "outputs": [],
   "source": [
    "for batched_g,y in data_loader:\n",
    "    break"
   ]
  },
  {
   "cell_type": "code",
   "execution_count": 45,
   "id": "7749edfd",
   "metadata": {},
   "outputs": [
    {
     "data": {
      "text/plain": [
       "torch.Size([300, 10])"
      ]
     },
     "execution_count": 45,
     "metadata": {},
     "output_type": "execute_result"
    }
   ],
   "source": [
    "net(batched_g).shape"
   ]
  },
  {
   "attachments": {},
   "cell_type": "markdown",
   "id": "55c4ffcb",
   "metadata": {},
   "source": [
    "## Training and testing the model\n",
    "\n",
    "Remeber, the threshold is 85%!!!\n",
    "\n",
    "Nothing changes here (the 'CUDA' parts will allow you to use the GPU on colab)"
   ]
  },
  {
   "cell_type": "code",
   "execution_count": 35,
   "id": "d8da9c1e",
   "metadata": {},
   "outputs": [],
   "source": [
    "loss_func = nn.CrossEntropyLoss()\n",
    "optimizer = optim.Adam(net.parameters(), lr=0.00005) "
   ]
  },
  {
   "cell_type": "code",
   "execution_count": 36,
   "id": "b94783f8",
   "metadata": {},
   "outputs": [],
   "source": [
    "def compute_accuracy_and_loss(dataloader,net):\n",
    "    total = 0\n",
    "    correct = 0\n",
    "    \n",
    "    loss = 0\n",
    "    \n",
    "    if torch.cuda.is_available():\n",
    "        net.cuda()\n",
    "    net.eval()\n",
    "    \n",
    "    n_batches = 0\n",
    "    with torch.no_grad():\n",
    "        for batched_g,y in dataloader:\n",
    "            n_batches+=1\n",
    "            \n",
    "            if torch.cuda.is_available():\n",
    "                batched_g = batched_g.to(torch.device('cuda'))\n",
    "                y = y.cuda()\n",
    "            pred = net(batched_g)\n",
    "            \n",
    "            loss+= loss_func(pred,y).item()\n",
    "            \n",
    "            pred = torch.argmax(pred,dim=1)\n",
    "\n",
    "            correct+=len(torch.where(pred==y)[0])\n",
    "            total+=len(y)\n",
    "    loss = loss/n_batches      \n",
    "    return correct/total, loss"
   ]
  },
  {
   "cell_type": "code",
   "execution_count": 47,
   "id": "9b5944c2",
   "metadata": {},
   "outputs": [],
   "source": [
    "if torch.cuda.is_available():\n",
    "    net.cuda()"
   ]
  },
  {
   "cell_type": "code",
   "execution_count": 48,
   "id": "8d1bb471",
   "metadata": {},
   "outputs": [
    {
     "data": {
      "application/vnd.jupyter.widget-view+json": {
       "model_id": "9ca5a1d0113e496e96f41a8f535e9aea",
       "version_major": 2,
       "version_minor": 0
      },
      "text/plain": [
       "  0%|          | 0/15 [00:00<?, ?it/s]"
      ]
     },
     "metadata": {},
     "output_type": "display_data"
    }
   ],
   "source": [
    "# Run it on colab\n",
    "# you have to import the .py files and afterwards you need to download the trained_model.pt that it produces\n",
    "\n",
    "if torch.cuda.is_available() == True:\n",
    "\n",
    "    n_epochs = 15\n",
    "\n",
    "    training_loss_vs_epoch = []\n",
    "    validation_loss_vs_epoch = []\n",
    "\n",
    "    training_acc_vs_epoch = []\n",
    "    validation_acc_vs_epoch = []\n",
    "\n",
    "    pbar = tqdm( range(n_epochs) )\n",
    "\n",
    "    for epoch in pbar:\n",
    "\n",
    "        if len(validation_loss_vs_epoch) > 1:\n",
    "            pbar.set_description('val acc:'+'{0:.5f}'.format(validation_acc_vs_epoch[-1])+', train acc:'+'{0:.5f}'.format(training_acc_vs_epoch[-1]))\n",
    "\n",
    "        net.train() # put the net into \"training mode\"\n",
    "        for batched_g,y in data_loader:\n",
    "            if torch.cuda.is_available():\n",
    "                batched_g = batched_g.to(torch.device('cuda'))\n",
    "                y = y.cuda()\n",
    "\n",
    "            optimizer.zero_grad()\n",
    "            pred = net(batched_g)\n",
    "            loss = loss_func(pred,y)\n",
    "            loss.backward()\n",
    "            optimizer.step()\n",
    "\n",
    "        net.eval() #put the net into evaluation mode\n",
    "        train_acc, train_loss = compute_accuracy_and_loss(data_loader,net)\n",
    "        valid_acc, valid_loss = compute_accuracy_and_loss(validation_data_loader,net)\n",
    "\n",
    "        training_loss_vs_epoch.append(train_loss)    \n",
    "        training_acc_vs_epoch.append(train_acc)\n",
    "\n",
    "        validation_acc_vs_epoch.append(valid_acc)\n",
    "\n",
    "        validation_loss_vs_epoch.append(valid_loss)\n",
    "        if len(validation_loss_vs_epoch)==1 or validation_loss_vs_epoch[-2] > validation_loss_vs_epoch[-1]:\n",
    "            torch.save(net.state_dict(), 'trained_model.pt')"
   ]
  },
  {
   "cell_type": "code",
   "execution_count": 49,
   "id": "3582c2fc",
   "metadata": {},
   "outputs": [
    {
     "data": {
      "image/png": "[encoded data removed]",
      "text/plain": [
       "<Figure size 800x300 with 2 Axes>"
      ]
     },
     "metadata": {},
     "output_type": "display_data"
    }
   ],
   "source": [
    "if torch.cuda.is_available() == True:\n",
    "    \n",
    "    fig,ax = plt.subplots(1,2,figsize=(8,3))\n",
    "\n",
    "    ax[0].plot(training_loss_vs_epoch,label='training')\n",
    "    ax[0].plot(validation_loss_vs_epoch,label='validation')\n",
    "\n",
    "    ax[1].plot(training_acc_vs_epoch)\n",
    "    ax[1].plot(validation_acc_vs_epoch)\n",
    "\n",
    "    plt.show()"
   ]
  },
  {
   "cell_type": "code",
   "execution_count": 50,
   "id": "7647c1e0",
   "metadata": {},
   "outputs": [
    {
     "data": {
      "text/plain": [
       "<All keys matched successfully>"
      ]
     },
     "execution_count": 50,
     "metadata": {},
     "output_type": "execute_result"
    }
   ],
   "source": [
    "net.load_state_dict(torch.load('trained_model.pt',map_location='cpu'))"
   ]
  },
  {
   "cell_type": "code",
   "execution_count": 51,
   "id": "5e27124a",
   "metadata": {},
   "outputs": [],
   "source": [
    "from evaluate import *"
   ]
  },
  {
   "cell_type": "code",
   "execution_count": 52,
   "id": "55173262",
   "metadata": {},
   "outputs": [
    {
     "data": {
      "text/plain": [
       "0.0923"
      ]
     },
     "execution_count": 52,
     "metadata": {},
     "output_type": "execute_result"
    }
   ],
   "source": [
    "evaluate_on_dataset('Dataset/valid_ds.h5')"
   ]
  },
  {
   "cell_type": "code",
   "execution_count": null,
   "id": "85097417",
   "metadata": {},
   "outputs": [],
   "source": []
  }
 ],
 "metadata": {
  "kernelspec": {
   "display_name": "Python 3.8.9 64-bit",
   "language": "python",
   "name": "python3"
  },
  "language_info": {
   "codemirror_mode": {
    "name": "ipython",
    "version": 3
   },
   "file_extension": ".py",
   "mimetype": "text/x-python",
   "name": "python",
   "nbconvert_exporter": "python",
   "pygments_lexer": "ipython3",
   "version": "3.10.8"
  },
  "vscode": {
   "interpreter": {
    "hash": "31f2aee4e71d21fbe5cf8b01ff0e069b9275f58929596ceb00d14d90e3e16cd6"
   }
  }
 },
 "nbformat": 4,
 "nbformat_minor": 5
}
