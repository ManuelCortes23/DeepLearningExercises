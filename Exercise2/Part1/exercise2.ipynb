{
 "cells": [
  {
   "cell_type": "code",
   "execution_count": 1,
   "id": "fbc33973",
   "metadata": {},
   "outputs": [],
   "source": [
    "import torch\n",
    "from torch.utils.data import Dataset, DataLoader\n",
    "import torchvision.models as models\n",
    "from torchvision import transforms\n",
    "import torch.nn as nn\n",
    "import torch.optim as optim\n",
    "from tqdm.notebook import tqdm\n",
    "import matplotlib.pyplot as plt\n",
    "import glob\n",
    "import numpy as np\n",
    "from PIL import Image\n",
    "\n"
   ]
  },
  {
   "attachments": {},
   "cell_type": "markdown",
   "id": "f4e41318",
   "metadata": {},
   "source": [
    "## Exercise 2, part 1\n",
    "\n",
    "We build a CNN to classify the galaxies.\n",
    "\n",
    "Goal: 75% or more!"
   ]
  },
  {
   "cell_type": "code",
   "execution_count": null,
   "id": "1e26fe98",
   "metadata": {},
   "outputs": [],
   "source": [
    "!unzip ../../Datasets/Dataset_galaxies.zip"
   ]
  },
  {
   "cell_type": "code",
   "execution_count": 2,
   "id": "15c5055e",
   "metadata": {},
   "outputs": [],
   "source": [
    "path_to_training_data = 'Dataset/train/'\n",
    "path_to_validation_data = 'Dataset/validation/'"
   ]
  },
  {
   "cell_type": "code",
   "execution_count": null,
   "id": "a4183a70",
   "metadata": {},
   "outputs": [],
   "source": [
    "%load_ext autoreload\n",
    "%autoreload 2"
   ]
  },
  {
   "attachments": {},
   "cell_type": "markdown",
   "id": "9eb89a6e",
   "metadata": {},
   "source": [
    "### Dataloader\n",
    "\n",
    "Reuse the same as HW1, but make sure that the shape is (3, 69, 69). This because pretrained models have been trained on color images that have three channels (R,G,B). We need our input to match thath, at least in it's shape."
   ]
  },
  {
   "cell_type": "code",
   "execution_count": 3,
   "id": "e48d5806",
   "metadata": {},
   "outputs": [
    {
     "name": "stdout",
     "output_type": "stream",
     "text": [
      "torch.Size([1, 69, 69])\n",
      "torch.Size([3, 69, 69])\n"
     ]
    }
   ],
   "source": [
    "# Example of torch repeating an array\n",
    "\n",
    "some_tensor = torch.rand(1,69,69)\n",
    "print(some_tensor.shape)\n",
    "some_tensor = some_tensor.repeat(3,1,1)\n",
    "print(some_tensor.shape)"
   ]
  },
  {
   "cell_type": "code",
   "execution_count": 4,
   "id": "520a4e2c",
   "metadata": {},
   "outputs": [],
   "source": [
    "from dataloader import CustomDataset"
   ]
  },
  {
   "cell_type": "code",
   "execution_count": 5,
   "id": "f26e1dcf",
   "metadata": {},
   "outputs": [
    {
     "data": {
      "text/plain": [
       "torch.Size([3, 69, 69])"
      ]
     },
     "execution_count": 5,
     "metadata": {},
     "output_type": "execute_result"
    }
   ],
   "source": [
    "training_ds = CustomDataset(path_to_training_data,transform=True)\n",
    "validation_ds = CustomDataset(path_to_validation_data)\n",
    "\n",
    "some_random_idx = 2\n",
    "x,y = training_ds[some_random_idx]\n",
    "x.shape"
   ]
  },
  {
   "cell_type": "code",
   "execution_count": 6,
   "id": "0ad9fd59",
   "metadata": {},
   "outputs": [],
   "source": [
    "training_dataloader = DataLoader(training_ds,batch_size = 128,shuffle=True)\n",
    "valid_dataloader = DataLoader(validation_ds,batch_size = 128)"
   ]
  },
  {
   "cell_type": "code",
   "execution_count": 7,
   "id": "e671af7d",
   "metadata": {},
   "outputs": [
    {
     "name": "stdout",
     "output_type": "stream",
     "text": [
      "torch.Size([128, 3, 69, 69]) torch.Size([128])\n"
     ]
    }
   ],
   "source": [
    "#make sure that you are getting the right dimensions - (Batch size, 3, 69,69)\n",
    "\n",
    "for x,y in training_dataloader:\n",
    "    print(x.shape,y.shape)\n",
    "    break"
   ]
  },
  {
   "attachments": {},
   "cell_type": "markdown",
   "id": "e4387d1a",
   "metadata": {},
   "source": [
    "### Download the pre-trained model\n",
    "\n",
    "From the list https://pytorch.org/vision/stable/models.html, get any pretrained models you want.\n",
    "\n",
    "I show you vgg11 for example (but you can use alexnet or resnet also)."
   ]
  },
  {
   "cell_type": "code",
   "execution_count": 8,
   "id": "59f0ac64",
   "metadata": {},
   "outputs": [
    {
     "name": "stderr",
     "output_type": "stream",
     "text": [
      "c:\\Users\\manuc\\miniconda3\\envs\\Pytorch\\lib\\site-packages\\torchvision\\models\\_utils.py:208: UserWarning: The parameter 'pretrained' is deprecated since 0.13 and may be removed in the future, please use 'weights' instead.\n",
      "  warnings.warn(\n",
      "c:\\Users\\manuc\\miniconda3\\envs\\Pytorch\\lib\\site-packages\\torchvision\\models\\_utils.py:223: UserWarning: Arguments other than a weight enum or `None` for 'weights' are deprecated since 0.13 and may be removed in the future. The current behavior is equivalent to passing `weights=VGG11_Weights.IMAGENET1K_V1`. You can also use `weights=VGG11_Weights.DEFAULT` to get the most up-to-date weights.\n",
      "  warnings.warn(msg)\n"
     ]
    }
   ],
   "source": [
    "import torchvision.models as models\n",
    "\n",
    "pretrained_model = models.vgg11(pretrained=True)"
   ]
  },
  {
   "cell_type": "code",
   "execution_count": 9,
   "id": "43561274",
   "metadata": {},
   "outputs": [
    {
     "data": {
      "text/plain": [
       "VGG(\n",
       "  (features): Sequential(\n",
       "    (0): Conv2d(3, 64, kernel_size=(3, 3), stride=(1, 1), padding=(1, 1))\n",
       "    (1): ReLU(inplace=True)\n",
       "    (2): MaxPool2d(kernel_size=2, stride=2, padding=0, dilation=1, ceil_mode=False)\n",
       "    (3): Conv2d(64, 128, kernel_size=(3, 3), stride=(1, 1), padding=(1, 1))\n",
       "    (4): ReLU(inplace=True)\n",
       "    (5): MaxPool2d(kernel_size=2, stride=2, padding=0, dilation=1, ceil_mode=False)\n",
       "    (6): Conv2d(128, 256, kernel_size=(3, 3), stride=(1, 1), padding=(1, 1))\n",
       "    (7): ReLU(inplace=True)\n",
       "    (8): Conv2d(256, 256, kernel_size=(3, 3), stride=(1, 1), padding=(1, 1))\n",
       "    (9): ReLU(inplace=True)\n",
       "    (10): MaxPool2d(kernel_size=2, stride=2, padding=0, dilation=1, ceil_mode=False)\n",
       "    (11): Conv2d(256, 512, kernel_size=(3, 3), stride=(1, 1), padding=(1, 1))\n",
       "    (12): ReLU(inplace=True)\n",
       "    (13): Conv2d(512, 512, kernel_size=(3, 3), stride=(1, 1), padding=(1, 1))\n",
       "    (14): ReLU(inplace=True)\n",
       "    (15): MaxPool2d(kernel_size=2, stride=2, padding=0, dilation=1, ceil_mode=False)\n",
       "    (16): Conv2d(512, 512, kernel_size=(3, 3), stride=(1, 1), padding=(1, 1))\n",
       "    (17): ReLU(inplace=True)\n",
       "    (18): Conv2d(512, 512, kernel_size=(3, 3), stride=(1, 1), padding=(1, 1))\n",
       "    (19): ReLU(inplace=True)\n",
       "    (20): MaxPool2d(kernel_size=2, stride=2, padding=0, dilation=1, ceil_mode=False)\n",
       "  )\n",
       "  (avgpool): AdaptiveAvgPool2d(output_size=(7, 7))\n",
       "  (classifier): Sequential(\n",
       "    (0): Linear(in_features=25088, out_features=4096, bias=True)\n",
       "    (1): ReLU(inplace=True)\n",
       "    (2): Dropout(p=0.5, inplace=False)\n",
       "    (3): Linear(in_features=4096, out_features=4096, bias=True)\n",
       "    (4): ReLU(inplace=True)\n",
       "    (5): Dropout(p=0.5, inplace=False)\n",
       "    (6): Linear(in_features=4096, out_features=1000, bias=True)\n",
       "  )\n",
       ")"
      ]
     },
     "execution_count": 9,
     "metadata": {},
     "output_type": "execute_result"
    }
   ],
   "source": [
    "# Look at the internal structure..\n",
    "\n",
    "# features (use a Sequential model) -- try to understand what each layer does\n",
    "# classifier (returns an array of 1000, it's a simply FC network)\n",
    "# avgpool allows you to use this with any image size, simply rescale the input to a preffered size\n",
    "\n",
    "pretrained_model"
   ]
  },
  {
   "cell_type": "code",
   "execution_count": 10,
   "id": "d95d2aba",
   "metadata": {},
   "outputs": [
    {
     "data": {
      "text/plain": [
       "torch.Size([128, 1000])"
      ]
     },
     "execution_count": 10,
     "metadata": {},
     "output_type": "execute_result"
    }
   ],
   "source": [
    "# the pretrained models have an output shape that matches the number of classes they were trained on\n",
    "\n",
    "pretrained_model(x).shape"
   ]
  },
  {
   "cell_type": "code",
   "execution_count": 12,
   "id": "1bf313f8",
   "metadata": {},
   "outputs": [
    {
     "data": {
      "text/plain": [
       "torch.Size([128, 512, 2, 2])"
      ]
     },
     "execution_count": 12,
     "metadata": {},
     "output_type": "execute_result"
    }
   ],
   "source": [
    "# output size of the features layer.. after flattening it, this will be the input for the classifier\n",
    "pretrained_model.features(x).shape"
   ]
  },
  {
   "attachments": {},
   "cell_type": "markdown",
   "id": "c5d232e5",
   "metadata": {},
   "source": [
    "### The model\n",
    "\n",
    "You have to build a model that has the same feature structure, but a different classifier. In fact out output should be size 10, since we have only 10 classes."
   ]
  },
  {
   "cell_type": "code",
   "execution_count": 13,
   "id": "5d297319",
   "metadata": {},
   "outputs": [],
   "source": [
    "from model import Net"
   ]
  },
  {
   "cell_type": "code",
   "execution_count": 11,
   "id": "9fb72ac6",
   "metadata": {},
   "outputs": [],
   "source": [
    "import torch\n",
    "import numpy as np\n",
    "import torch.nn as nn\n",
    "from torch.nn import Conv2d,ReLU,MaxPool2d,Linear\n",
    "\n",
    "class Net(nn.Module):\n",
    "\n",
    "    def __init__(self):\n",
    "        super().__init__()\n",
    "        \n",
    "        self.features = nn.Sequential(\n",
    "            nn.Conv2d(3, 64, kernel_size=3, stride=1, padding=1),\n",
    "            nn.ReLU(inplace=True),\n",
    "            nn.MaxPool2d(kernel_size=2, stride=2),\n",
    "            \n",
    "            nn.Conv2d(64, 128, kernel_size=3, stride=1, padding=1),\n",
    "            nn.ReLU(inplace=True),\n",
    "            nn.MaxPool2d(kernel_size=2, stride=2),\n",
    "            \n",
    "            nn.Conv2d(128, 256, kernel_size=3, stride=1, padding=1),\n",
    "            nn.ReLU(inplace=True),\n",
    "            \n",
    "            nn.Conv2d(256, 256, kernel_size=3, stride=1, padding=1),\n",
    "            nn.ReLU(inplace=True),\n",
    "            nn.MaxPool2d(kernel_size=2, stride=2),\n",
    "            \n",
    "            nn.Conv2d(256, 512, kernel_size=3, stride=1, padding=1),\n",
    "            nn.ReLU(inplace=True),\n",
    "            \n",
    "            nn.Conv2d(512, 512, kernel_size=3, stride=1, padding=1),\n",
    "            nn.ReLU(inplace=True),\n",
    "            nn.MaxPool2d(kernel_size=2, stride=2),\n",
    "            \n",
    "            nn.Conv2d(512, 512, kernel_size=3, stride=1, padding=1),\n",
    "            nn.ReLU(inplace=True),\n",
    "            \n",
    "            nn.Conv2d(512, 512, kernel_size=3, stride=1, padding=1),\n",
    "            nn.ReLU(inplace=True),\n",
    "            nn.MaxPool2d(kernel_size=2, stride=2)\n",
    "        )\n",
    "        \n",
    "        self.avgpool = nn.AdaptiveAvgPool2d(output_size=(7,7))\n",
    "        \n",
    "        self.classifier = nn.Sequential(\n",
    "            nn.Linear(25088, 4096),\n",
    "            nn.ReLU(inplace=True),\n",
    "            nn.Dropout(p=0.5),\n",
    "            \n",
    "            nn.Linear(4096, 2048),\n",
    "            nn.ReLU(inplace=True),\n",
    "            nn.Dropout(p=0.5),\n",
    "            \n",
    "            nn.Linear(2048, 10)\n",
    "        )\n",
    "\n",
    "        \n",
    "    def forward(self,x):\n",
    "        \n",
    "        out = self.features(x)\n",
    "        out = self.avgpool(out)\n",
    "        out = torch.flatten(out,1)\n",
    "        out = self.classifier(out)\n",
    "        \n",
    "        return out"
   ]
  },
  {
   "cell_type": "code",
   "execution_count": 12,
   "id": "7395ac33",
   "metadata": {},
   "outputs": [
    {
     "name": "stdout",
     "output_type": "stream",
     "text": [
      "torch.Size([128, 10])\n",
      "----------------------------------------------------------------\n",
      "        Layer (type)               Output Shape         Param #\n",
      "================================================================\n",
      "            Conv2d-1           [-1, 64, 69, 69]           1,792\n",
      "              ReLU-2           [-1, 64, 69, 69]               0\n",
      "         MaxPool2d-3           [-1, 64, 34, 34]               0\n",
      "            Conv2d-4          [-1, 128, 34, 34]          73,856\n",
      "              ReLU-5          [-1, 128, 34, 34]               0\n",
      "         MaxPool2d-6          [-1, 128, 17, 17]               0\n",
      "            Conv2d-7          [-1, 256, 17, 17]         295,168\n",
      "              ReLU-8          [-1, 256, 17, 17]               0\n",
      "            Conv2d-9          [-1, 256, 17, 17]         590,080\n",
      "             ReLU-10          [-1, 256, 17, 17]               0\n",
      "        MaxPool2d-11            [-1, 256, 8, 8]               0\n",
      "           Conv2d-12            [-1, 512, 8, 8]       1,180,160\n",
      "             ReLU-13            [-1, 512, 8, 8]               0\n",
      "           Conv2d-14            [-1, 512, 8, 8]       2,359,808\n",
      "             ReLU-15            [-1, 512, 8, 8]               0\n",
      "        MaxPool2d-16            [-1, 512, 4, 4]               0\n",
      "           Conv2d-17            [-1, 512, 4, 4]       2,359,808\n",
      "             ReLU-18            [-1, 512, 4, 4]               0\n",
      "           Conv2d-19            [-1, 512, 4, 4]       2,359,808\n",
      "             ReLU-20            [-1, 512, 4, 4]               0\n",
      "        MaxPool2d-21            [-1, 512, 2, 2]               0\n",
      "AdaptiveAvgPool2d-22            [-1, 512, 7, 7]               0\n",
      "           Linear-23                 [-1, 4096]     102,764,544\n",
      "             ReLU-24                 [-1, 4096]               0\n",
      "          Dropout-25                 [-1, 4096]               0\n",
      "           Linear-26                 [-1, 2048]       8,390,656\n",
      "             ReLU-27                 [-1, 2048]               0\n",
      "          Dropout-28                 [-1, 2048]               0\n",
      "           Linear-29                   [-1, 10]          20,490\n",
      "================================================================\n",
      "Total params: 120,396,170\n",
      "Trainable params: 120,396,170\n",
      "Non-trainable params: 0\n",
      "----------------------------------------------------------------\n",
      "Input size (MB): 0.05\n",
      "Forward/backward pass size (MB): 11.80\n",
      "Params size (MB): 459.27\n",
      "Estimated Total Size (MB): 471.13\n",
      "----------------------------------------------------------------\n"
     ]
    }
   ],
   "source": [
    "from torchsummary import summary\n",
    "\n",
    "net = Net()\n",
    "print(net(x).shape)\n",
    "\n",
    "# Move the model to the GPU\n",
    "net.cuda()\n",
    "# Print the summary of the network\n",
    "summary(net, (3, 69, 69))\n",
    "\n"
   ]
  },
  {
   "attachments": {},
   "cell_type": "markdown",
   "id": "90ac23cc",
   "metadata": {},
   "source": [
    "Now, we copy the feature weights from the pretrained model.\n",
    "\n",
    "If you change one of the layer in the feature part, this command won't work (try!)."
   ]
  },
  {
   "cell_type": "code",
   "execution_count": 16,
   "id": "a38ab23c",
   "metadata": {},
   "outputs": [
    {
     "data": {
      "text/plain": [
       "<All keys matched successfully>"
      ]
     },
     "execution_count": 16,
     "metadata": {},
     "output_type": "execute_result"
    }
   ],
   "source": [
    "# state_dict is a dictionary containing every weight in every layer\n",
    "# we want to copy only the feature part\n",
    "\n",
    "pretrained_dict = pretrained_model.state_dict()\n",
    "state_dict = net.state_dict()\n",
    "\n",
    "for key in state_dict.keys():\n",
    "    if 'features' not in key:\n",
    "        continue\n",
    "    if key in pretrained_dict.keys():\n",
    "        state_dict[key] = pretrained_dict[key]\n",
    "\n",
    "net.load_state_dict(state_dict)"
   ]
  },
  {
   "attachments": {},
   "cell_type": "markdown",
   "id": "b463a341",
   "metadata": {},
   "source": [
    "## Training and validation\n",
    "\n",
    "Same code as exercise 1!"
   ]
  },
  {
   "cell_type": "code",
   "execution_count": 13,
   "id": "da3f9376",
   "metadata": {},
   "outputs": [],
   "source": [
    "loss_func = nn.CrossEntropyLoss()\n",
    "optimizer = optim.Adam(net.parameters(), lr=0.001) "
   ]
  },
  {
   "cell_type": "code",
   "execution_count": 14,
   "id": "ee18caa4",
   "metadata": {},
   "outputs": [],
   "source": [
    "def compute_accuracy_and_loss(dataloader,net):\n",
    "    total = 0\n",
    "    correct = 0\n",
    "    \n",
    "    loss = 0\n",
    "    \n",
    "    if torch.cuda.is_available():\n",
    "        net.cuda()\n",
    "    net.eval()\n",
    "    \n",
    "    n_batches = 0\n",
    "    with torch.no_grad():\n",
    "        for x,y in dataloader:\n",
    "            n_batches+=1\n",
    "            \n",
    "            if torch.cuda.is_available():\n",
    "                x = x.cuda()\n",
    "                y = y.cuda()\n",
    "            pred = net(x)\n",
    "            \n",
    "            loss+= loss_func(pred,y).item()\n",
    "            \n",
    "            pred = torch.argmax(pred,dim=1)\n",
    "\n",
    "            correct+=len(torch.where(pred==y)[0])\n",
    "            total+=len(y)\n",
    "    loss = loss/n_batches      \n",
    "    return correct/total, loss"
   ]
  },
  {
   "cell_type": "code",
   "execution_count": 15,
   "id": "c65fe6b8",
   "metadata": {},
   "outputs": [],
   "source": [
    "if torch.cuda.is_available():\n",
    "    net.cuda()\n"
   ]
  },
  {
   "cell_type": "code",
   "execution_count": 16,
   "id": "0b42d748",
   "metadata": {
    "scrolled": true
   },
   "outputs": [
    {
     "data": {
      "application/vnd.jupyter.widget-view+json": {
       "model_id": "d223579b50614111866e107458e3dc7b",
       "version_major": 2,
       "version_minor": 0
      },
      "text/plain": [
       "  0%|          | 0/50 [00:00<?, ?it/s]"
      ]
     },
     "metadata": {},
     "output_type": "display_data"
    },
    {
     "name": "stdout",
     "output_type": "stream",
     "text": [
      "epoch 2  val acc:0.31960, train acc:0.33820\n",
      "epoch 3  val acc:0.44840, train acc:0.44270\n",
      "epoch 4  val acc:0.56220, train acc:0.56530\n",
      "epoch 5  val acc:0.62740, train acc:0.64110\n",
      "epoch 6  val acc:0.63400, train acc:0.65380\n",
      "epoch 7  val acc:0.68160, train acc:0.66790\n",
      "epoch 8  val acc:0.69180, train acc:0.69500\n",
      "epoch 9  val acc:0.70140, train acc:0.70760\n",
      "epoch 10  val acc:0.67480, train acc:0.65540\n",
      "epoch 11  val acc:0.70060, train acc:0.71010\n",
      "epoch 12  val acc:0.70400, train acc:0.70420\n",
      "epoch 13  val acc:0.73660, train acc:0.73040\n",
      "epoch 14  val acc:0.72840, train acc:0.73660\n",
      "epoch 15  val acc:0.71460, train acc:0.71710\n",
      "epoch 16  val acc:0.73460, train acc:0.74250\n",
      "epoch 17  val acc:0.73460, train acc:0.74650\n",
      "epoch 18  val acc:0.75400, train acc:0.75730\n",
      "epoch 19  val acc:0.72720, train acc:0.70680\n",
      "epoch 20  val acc:0.74480, train acc:0.75230\n",
      "epoch 21  val acc:0.77980, train acc:0.77560\n",
      "epoch 22  val acc:0.73440, train acc:0.75020\n",
      "epoch 23  val acc:0.76620, train acc:0.75880\n",
      "epoch 24  val acc:0.76180, train acc:0.76950\n",
      "epoch 25  val acc:0.77680, train acc:0.75990\n",
      "epoch 26  val acc:0.78100, train acc:0.78680\n",
      "epoch 27  val acc:0.77320, train acc:0.77930\n",
      "epoch 28  val acc:0.76480, train acc:0.76320\n",
      "epoch 29  val acc:0.79300, train acc:0.79400\n",
      "epoch 30  val acc:0.77820, train acc:0.79180\n",
      "epoch 31  val acc:0.76440, train acc:0.77220\n",
      "epoch 32  val acc:0.78600, train acc:0.78770\n",
      "epoch 33  val acc:0.78080, train acc:0.79230\n",
      "epoch 34  val acc:0.77200, train acc:0.78240\n",
      "epoch 35  val acc:0.79880, train acc:0.80410\n",
      "epoch 36  val acc:0.80380, train acc:0.81040\n",
      "epoch 37  val acc:0.80640, train acc:0.80290\n",
      "epoch 38  val acc:0.80560, train acc:0.80840\n",
      "epoch 39  val acc:0.78260, train acc:0.79420\n",
      "epoch 40  val acc:0.79480, train acc:0.80620\n",
      "epoch 41  val acc:0.80580, train acc:0.80960\n",
      "epoch 42  val acc:0.80340, train acc:0.80650\n",
      "epoch 43  val acc:0.80420, train acc:0.81440\n",
      "epoch 44  val acc:0.80220, train acc:0.79690\n",
      "epoch 45  val acc:0.79520, train acc:0.80840\n",
      "epoch 46  val acc:0.80260, train acc:0.81880\n",
      "epoch 47  val acc:0.80200, train acc:0.80820\n",
      "epoch 48  val acc:0.80900, train acc:0.81980\n",
      "epoch 49  val acc:0.80560, train acc:0.80300\n"
     ]
    }
   ],
   "source": [
    "n_epochs = 50\n",
    "\n",
    "training_loss_vs_epoch = []\n",
    "validation_loss_vs_epoch = []\n",
    "\n",
    "training_acc_vs_epoch = []\n",
    "validation_acc_vs_epoch = []\n",
    "\n",
    "pbar = tqdm( range(n_epochs) )\n",
    "\n",
    "for epoch in pbar:\n",
    "    \n",
    "    if len(validation_loss_vs_epoch) > 1:\n",
    "        print('epoch',epoch,' val acc:'+'{0:.5f}'.format(validation_acc_vs_epoch[-1])+\n",
    "              ', train acc:'+'{0:.5f}'.format(training_acc_vs_epoch[-1]))\n",
    "    \n",
    "    net.train() # put the net into \"training mode\"\n",
    "    \n",
    "    for x,y in training_dataloader:\n",
    "        if torch.cuda.is_available():\n",
    "            x = x.cuda()\n",
    "            y = y.cuda()\n",
    "            \n",
    "        optimizer.zero_grad()\n",
    "        pred = net(x)\n",
    "        loss = loss_func(pred,y)\n",
    "        loss.backward()\n",
    "        optimizer.step()\n",
    "    \n",
    "    net.eval() #put the net into evaluation mode\n",
    "    train_acc, train_loss = compute_accuracy_and_loss(training_dataloader,net)\n",
    "    valid_acc, valid_loss =  compute_accuracy_and_loss(valid_dataloader,net)\n",
    "         \n",
    "    training_loss_vs_epoch.append(train_loss)    \n",
    "    training_acc_vs_epoch.append( train_acc )\n",
    "    \n",
    "    validation_acc_vs_epoch.append(valid_acc)\n",
    "    \n",
    "    validation_loss_vs_epoch.append(valid_loss)\n",
    "    if len(validation_loss_vs_epoch)==1 or validation_loss_vs_epoch[-2] > validation_loss_vs_epoch[-1]:\n",
    "        torch.save(net.state_dict(), 'trained_model.pt')"
   ]
  },
  {
   "cell_type": "code",
   "execution_count": 17,
   "id": "dc76eeed",
   "metadata": {},
   "outputs": [
    {
     "data": {
      "image/png": "[encoded data removed]",
      "text/plain": [
       "<Figure size 800x300 with 2 Axes>"
      ]
     },
     "metadata": {},
     "output_type": "display_data"
    }
   ],
   "source": [
    "fig,ax = plt.subplots(1,2,figsize=(8,3))\n",
    "\n",
    "ax[0].plot(training_loss_vs_epoch,label='training')\n",
    "ax[0].plot(validation_loss_vs_epoch,label='validation')\n",
    "\n",
    "ax[1].plot(training_acc_vs_epoch)\n",
    "ax[1].plot(validation_acc_vs_epoch)\n",
    "\n",
    "ax[0].set_ylabel('loss')\n",
    "ax[1].set_ylabel('accuracy')\n",
    "for i in range(2):\n",
    "    ax[i].set_xlabel('epoch')\n",
    "plt.show()"
   ]
  },
  {
   "cell_type": "code",
   "execution_count": null,
   "id": "af36f73c",
   "metadata": {},
   "outputs": [],
   "source": []
  }
 ],
 "metadata": {
  "kernelspec": {
   "display_name": "Python 3.8.9 64-bit",
   "language": "python",
   "name": "python3"
  },
  "language_info": {
   "codemirror_mode": {
    "name": "ipython",
    "version": 3
   },
   "file_extension": ".py",
   "mimetype": "text/x-python",
   "name": "python",
   "nbconvert_exporter": "python",
   "pygments_lexer": "ipython3",
   "version": "3.10.8"
  },
  "vscode": {
   "interpreter": {
    "hash": "31f2aee4e71d21fbe5cf8b01ff0e069b9275f58929596ceb00d14d90e3e16cd6"
   }
  }
 },
 "nbformat": 4,
 "nbformat_minor": 5
}
